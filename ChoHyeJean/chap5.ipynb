{
 "cells": [
  {
   "cell_type": "code",
   "execution_count": 2,
   "id": "1bb0905c",
   "metadata": {},
   "outputs": [
    {
     "name": "stdout",
     "output_type": "stream",
     "text": [
      "30414093201713378043612608166064768844377641568960512000000000000\n"
     ]
    }
   ],
   "source": [
    "result=1\n",
    "for i in range(1,51):\n",
    "    result*=i\n",
    "print(result)"
   ]
  },
  {
   "cell_type": "code",
   "execution_count": 7,
   "id": "f010a3ba",
   "metadata": {},
   "outputs": [
    {
     "name": "stdout",
     "output_type": "stream",
     "text": [
      "몇단?>>4\n",
      "4 x 1 = 4\n",
      "4 x 2 = 8\n",
      "4 x 3 = 12\n",
      "4 x 4 = 16\n",
      "4 x 5 = 20\n",
      "4 x 6 = 24\n",
      "4 x 7 = 28\n",
      "4 x 8 = 32\n",
      "4 x 9 = 36\n"
     ]
    }
   ],
   "source": [
    "#구구단\n",
    "n = int(input('몇단?>>'))\n",
    "for i in range(1,10):\n",
    "    print(n,'x',i,'=',i*n)"
   ]
  },
  {
   "cell_type": "code",
   "execution_count": 11,
   "id": "fd8f6590",
   "metadata": {},
   "outputs": [
    {
     "name": "stdout",
     "output_type": "stream",
     "text": [
      "구구단을 외자\n",
      "6 x 6 = 36\n",
      "4 x 7 = 28\n",
      "6 x 6 = 36\n",
      "7 x 3 = 21\n",
      "6 x 5 = 30\n",
      "4 x 6 = 24\n",
      "8 x 5 = 40\n",
      "3 x 9 = 27\n",
      "8 x 2 = 16\n",
      "7 x 5 = 35\n"
     ]
    }
   ],
   "source": [
    "#구구단2\n",
    "import random\n",
    "print('구구단을 외자')\n",
    "for i in range(10):\n",
    "    a = random.randint(2,9)\n",
    "    b = random.randint(1,9)\n",
    "    print(a,'x',b,'=',a*b)"
   ]
  },
  {
   "cell_type": "code",
   "execution_count": 23,
   "id": "c2f6f032",
   "metadata": {},
   "outputs": [
    {
     "name": "stdout",
     "output_type": "stream",
     "text": [
      "구구단 풀어보세요\n",
      "7 x 2\n",
      "=14\n",
      "맞았습니다\n",
      "3 x 1\n",
      "=1\n",
      "틀렸습니다\n",
      "4 x 4\n",
      "=1\n",
      "틀렸습니다\n",
      "8 x 2\n",
      "=1\n",
      "틀렸습니다\n",
      "7 x 9\n",
      "=1\n",
      "틀렸습니다\n",
      "9 x 9\n",
      "=81\n",
      "맞았습니다\n",
      "7 x 3\n",
      "=21\n",
      "맞았습니다\n",
      "6 x 4\n",
      "=24\n",
      "맞았습니다\n",
      "4 x 5\n",
      "=20\n",
      "맞았습니다\n",
      "2 x 1\n",
      "=2\n",
      "맞았습니다\n"
     ]
    }
   ],
   "source": [
    "#구구단3\n",
    "import random\n",
    "print('구구단 풀어보세요')\n",
    "for i in range(10):\n",
    "    a, b = random.randint(2,9),random.randint(1,9)\n",
    "    print(a,'x',b)\n",
    "    value = int(input('='))\n",
    "    if value!=a*b:\n",
    "        print('틀렸습니다')\n",
    "    elif value==a*b:\n",
    "        print('맞았습니다')      "
   ]
  },
  {
   "cell_type": "code",
   "execution_count": 33,
   "id": "521263c4",
   "metadata": {},
   "outputs": [
    {
     "name": "stdout",
     "output_type": "stream",
     "text": [
      "1 홀수-> 2 짝수-> 3 홀수-> 4 짝수-> 5 홀수-> 6 짝수-> 7 홀수-> 8 짝수-> 9 홀수-> 10 짝수-> 11 홀수-> 12 짝수-> 13 홀수-> 14 짝수-> 15 홀수-> 16 짝수-> 17 홀수-> 18 짝수-> 19 홀수-> 20 짝수-> 21 홀수-> 22 짝수-> 23 홀수-> 24 짝수-> 25 홀수-> 26 짝수-> 27 홀수-> 28 짝수-> 29 홀수-> 30 짝수-> "
     ]
    }
   ],
   "source": [
    "#홀짝게임\n",
    "for i in range(1,31):\n",
    "    if i%2==0:\n",
    "        print(i, '짝수', end='-> ')\n",
    "    else:\n",
    "        print(i, '홀수', end='-> ')"
   ]
  },
  {
   "cell_type": "code",
   "execution_count": 35,
   "id": "6fdc77df",
   "metadata": {},
   "outputs": [
    {
     "name": "stdout",
     "output_type": "stream",
     "text": [
      "369 시작!\n",
      "1 2 짝! 4 5 짝! 7 8 짝! 10 11 12 짝! 14 15 짝! 17 18 짝! 20 21 22 짝! 24 25 짝! 27 28 짝! 짝! 짝! 짝! 짝! 짝! 짝! 짝! 짝! 짝! 짝! 40 41 42 짝! 44 45 짝! 47 48 짝! 50 51 52 짝! 54 55 짝! 57 58 짝! 짝! 짝! 짝! 짝! 짝! 짝! 짝! 짝! 짝! 짝! 70 71 72 짝! 74 75 짝! 77 78 짝! 80 81 82 짝! 84 85 짝! 87 88 짝! 짝! 짝! 짝! 짝! 짝! 짝! 짝! 짝! 짝! 짝! "
     ]
    }
   ],
   "source": [
    "#369\n",
    "print('369 시작!')\n",
    "for i in range(1,100):\n",
    "    if ('3'in str(i))or('6'in str(i))or('9'in str(i)):\n",
    "        print('짝!',end=' ')\n",
    "    else:\n",
    "        print(i, end=' ')"
   ]
  },
  {
   "cell_type": "code",
   "execution_count": 38,
   "id": "a21cccdb",
   "metadata": {},
   "outputs": [
    {
     "name": "stdout",
     "output_type": "stream",
     "text": [
      "구구단 풀어보세요\n",
      "4 x 2 = 8\n",
      "8 x 8 = 1\n",
      "땡! 정답은 64\n"
     ]
    }
   ],
   "source": [
    "#구구단4\n",
    "import random\n",
    "print('구구단 풀어보세요')\n",
    "for i in range(10):\n",
    "    a, b = random.randint(2,9),random.randint(1,9)\n",
    "    answer = input(str(a)+' x '+str(b)+' = ')\n",
    "    answer = int(answer)\n",
    "    if answer != a*b:\n",
    "        print('땡! 정답은', a*b)\n",
    "        break"
   ]
  },
  {
   "cell_type": "code",
   "execution_count": 41,
   "id": "957f3208",
   "metadata": {},
   "outputs": [
    {
     "name": "stdout",
     "output_type": "stream",
     "text": [
      "10\n",
      "20\n",
      "30\n",
      "40\n",
      "50\n",
      "60\n",
      "70\n",
      "80\n",
      "90\n",
      "100\n"
     ]
    }
   ],
   "source": [
    "#실습1번\n",
    "#10부터 100까지의 숫자를 10 간격으로 출력합니다. 주어진 반복문을 사용해 프로그램을 완성하세요.\n",
    "for i in range(1,11):\n",
    "    print(i*10)"
   ]
  },
  {
   "cell_type": "code",
   "execution_count": 42,
   "id": "e78bce63",
   "metadata": {},
   "outputs": [
    {
     "name": "stdout",
     "output_type": "stream",
     "text": [
      "홈트레이닝 2주 계획입니다.\n",
      "1 일:스쿼트-윗몸일으키기-유산소운동\n",
      "2 일:스쿼트-윗몸일으키기-유산소운동\n",
      "3 일:스쿼트-윗몸일으키기-유산소운동\n",
      "4 일:스쿼트-윗몸일으키기-유산소운동\n",
      "5 일:휴식일입니다.\n",
      "6 일:스쿼트-윗몸일으키기-유산소운동\n",
      "7 일:스쿼트-윗몸일으키기-유산소운동\n",
      "8 일:스쿼트-윗몸일으키기-유산소운동\n",
      "9 일:스쿼트-윗몸일으키기-유산소운동\n",
      "10 일:휴식일입니다.\n",
      "11 일:스쿼트-윗몸일으키기-유산소운동\n",
      "12 일:스쿼트-윗몸일으키기-유산소운동\n",
      "13 일:스쿼트-윗몸일으키기-유산소운동\n",
      "14 일:스쿼트-윗몸일으키기-유산소운동\n"
     ]
    }
   ],
   "source": [
    "#실습2번\n",
    "#다음은 홈트레이닝 계획을 출력하는 코드와 그 실행결과입니다. 실행결과를 참고해 (가)와 (나)에 들어갈 조건문을 완성하세요.\n",
    "print('홈트레이닝 2주 계획입니다.')\n",
    "for i in range(1, 15):\n",
    "    if i%5==0:\n",
    "        print(i,'일:휴식일입니다.')\n",
    "    else:\n",
    "        print(i,'일:스쿼트-윗몸일으키기-유산소운동')"
   ]
  },
  {
   "cell_type": "code",
   "execution_count": 47,
   "id": "530a9a91",
   "metadata": {},
   "outputs": [
    {
     "name": "stdout",
     "output_type": "stream",
     "text": [
      "팅탱 후라이팬 놀이!\n",
      "이름 >> 메구\n",
      "횟수 >> 3\n",
      "메구\n",
      "메구\n",
      "메구\n",
      "이름 >> 감자\n",
      "횟수 >> 2\n",
      "감자\n",
      "감자\n",
      "이름 >> 해진이\n",
      "횟수 >> 5\n",
      "해진이\n",
      "해진이\n",
      "해진이\n",
      "해진이\n",
      "해진이\n",
      "이름 >> 조\n",
      "횟수 >> 2\n",
      "조\n",
      "조\n",
      "이름 >> 메구미\n",
      "횟수 >> 1\n",
      "메구미\n"
     ]
    }
   ],
   "source": [
    "#실습3번\n",
    "\"\"\"\n",
    "이름과 횟수를 입력받아, 입력받은 횟수만큼 이름을 말하는 게임 프로그램을 작성하려고 합니다.\n",
    "게임은 5번만 실행된다고 가정합니다.\n",
    "다음 빈칸에 알맞은 명령어를 넣어 실행결과처럼 나오도록 프로그램을 완성하세요.\n",
    "\"\"\"\n",
    "print('팅탱 후라이팬 놀이!')\n",
    "for i in range(5):\n",
    "    name = input('이름 >> ')\n",
    "    cnt = int(input('횟수 >> '))\n",
    "    for j in range(cnt):\n",
    "        print(name)"
   ]
  },
  {
   "cell_type": "code",
   "execution_count": null,
   "id": "fd54fe47",
   "metadata": {},
   "outputs": [],
   "source": []
  }
 ],
 "metadata": {
  "kernelspec": {
   "display_name": "Python 3 (ipykernel)",
   "language": "python",
   "name": "python3"
  },
  "language_info": {
   "codemirror_mode": {
    "name": "ipython",
    "version": 3
   },
   "file_extension": ".py",
   "mimetype": "text/x-python",
   "name": "python",
   "nbconvert_exporter": "python",
   "pygments_lexer": "ipython3",
   "version": "3.9.7"
  }
 },
 "nbformat": 4,
 "nbformat_minor": 5
}
