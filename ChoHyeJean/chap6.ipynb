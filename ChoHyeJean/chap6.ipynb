{
 "cells": [
  {
   "cell_type": "code",
   "execution_count": 1,
   "id": "9647043f",
   "metadata": {},
   "outputs": [
    {
     "name": "stdout",
     "output_type": "stream",
     "text": [
      "해야 할 일 다섯개 입력\n",
      "가\n",
      "나\n",
      "다\n",
      "라\n",
      "마\n",
      "['가', '나', '다', '라', '마']\n"
     ]
    }
   ],
   "source": [
    "to_do = []\n",
    "print('해야 할 일 다섯개 입력')\n",
    "for i in range(5):\n",
    "    to_do.append(input())\n",
    "    \n",
    "print(to_do)"
   ]
  },
  {
   "cell_type": "code",
   "execution_count": 2,
   "id": "c6487e3a",
   "metadata": {},
   "outputs": [
    {
     "name": "stdout",
     "output_type": "stream",
     "text": [
      "1월부터 3월 지출: [25, 36, 8]\n",
      "3월부터 5월 지출: [8, 53, 24]\n",
      "5월부터 6월 지출: [24, 56]\n"
     ]
    }
   ],
   "source": [
    "spending_6mon = [25,36,8,53,24,56]\n",
    "print('1월부터 3월 지출:', spending_6mon[:3])\n",
    "print('3월부터 5월 지출:', spending_6mon[2:5])\n",
    "print('5월부터 6월 지출:', spending_6mon[-2:])"
   ]
  },
  {
   "cell_type": "code",
   "execution_count": 4,
   "id": "9188b29f",
   "metadata": {},
   "outputs": [
    {
     "name": "stdout",
     "output_type": "stream",
     "text": [
      "연도: 2021\n",
      "월: 04\n",
      "일: 15\n"
     ]
    }
   ],
   "source": [
    "date='2021-04-15'\n",
    "print('연도:', date[:4])\n",
    "print('월:', date[5:7])\n",
    "print('일:', date[-2:])"
   ]
  },
  {
   "cell_type": "code",
   "execution_count": 5,
   "id": "7bc755d7",
   "metadata": {},
   "outputs": [
    {
     "name": "stdout",
     "output_type": "stream",
     "text": [
      "2022\n",
      "06\n",
      "28\n"
     ]
    }
   ],
   "source": [
    "date='2022-06-28'\n",
    "print(date.split('-')[0])\n",
    "print(date.split('-')[1])\n",
    "print(date.split('-')[2])"
   ]
  },
  {
   "cell_type": "code",
   "execution_count": 6,
   "id": "f653bb3d",
   "metadata": {},
   "outputs": [
    {
     "name": "stdout",
     "output_type": "stream",
     "text": [
      "정렬 전 >> ['가', '나', '다', '라', '마']\n",
      "정렬 후 >> ['마', '라', '다', '나', '가']\n"
     ]
    }
   ],
   "source": [
    "list=['가','나','다','라','마']\n",
    "print('정렬 전 >>',list)\n",
    "list.sort(reverse=True)\n",
    "print('정렬 후 >>',list)"
   ]
  },
  {
   "cell_type": "code",
   "execution_count": 7,
   "id": "9de89426",
   "metadata": {},
   "outputs": [
    {
     "name": "stdout",
     "output_type": "stream",
     "text": [
      "찾는 음식은?치킨\n",
      "2 위입니다.\n"
     ]
    }
   ],
   "source": [
    "food=['피자','치킨','스테이크','된장찌개']\n",
    "search=input('찾는 음식은?')\n",
    "if search in food:\n",
    "    print(food.index(search)+1, '위입니다.')\n",
    "else:\n",
    "    print(search, '은/는 순위에 없습니다.')"
   ]
  },
  {
   "cell_type": "code",
   "execution_count": 8,
   "id": "a504516e",
   "metadata": {},
   "outputs": [
    {
     "name": "stdout",
     "output_type": "stream",
     "text": [
      "[87, 83, 40, 97, 52, 13, 70, 25, 72, 20, 24, 34, 6, 50, 5, 2, 93, 37, 69, 97, 7, 66, 92, 9, 1]\n",
      "리스트를 사용해 70점 이상인 점수 출력하기\n",
      "1 번 87\n",
      "2 번 83\n",
      "4 번 97\n",
      "7 번 70\n",
      "9 번 72\n",
      "17 번 93\n",
      "4 번 97\n",
      "23 번 92\n",
      "인덱스를 사용해 70점 이상인 점수 출력하기\n",
      "1 번 87\n",
      "2 번 83\n",
      "4 번 97\n",
      "7 번 70\n",
      "9 번 72\n",
      "17 번 93\n",
      "20 번 97\n",
      "23 번 92\n"
     ]
    }
   ],
   "source": [
    "import random\n",
    "\n",
    "score = []\n",
    "for i in range(25):\n",
    "    score.append(random.randint(0,100))\n",
    "print(score)\n",
    "\n",
    "print('리스트를 사용해 70점 이상인 점수 출력하기')\n",
    "for s in score:\n",
    "    if s >= 70:\n",
    "        print(score.index(s)+1, '번',s)\n",
    "print('인덱스를 사용해 70점 이상인 점수 출력하기')\n",
    "for i in range(len(score)):\n",
    "    if score[i] >= 70:\n",
    "        print(i+1, '번', score[i])"
   ]
  },
  {
   "cell_type": "code",
   "execution_count": 9,
   "id": "0310d4f9",
   "metadata": {},
   "outputs": [
    {
     "name": "stdout",
     "output_type": "stream",
     "text": [
      "[1, 2, 3]\n",
      "[4, 5, 6]\n",
      "[7, 8, 9]\n"
     ]
    }
   ],
   "source": [
    "abc = [[1,2,3],[4,5,6],[7,8,9]]\n",
    "print(abc[0])\n",
    "print(abc[1])\n",
    "print(abc[2])"
   ]
  },
  {
   "cell_type": "code",
   "execution_count": 10,
   "id": "f75ad202",
   "metadata": {},
   "outputs": [
    {
     "name": "stdout",
     "output_type": "stream",
     "text": [
      "2\n",
      "6\n"
     ]
    }
   ],
   "source": [
    "abc = [[1,2,3],[4,5,6],[7,8,9]]\n",
    "print(abc[0][1])\n",
    "print(abc[1][2])"
   ]
  },
  {
   "cell_type": "code",
   "execution_count": 11,
   "id": "24d3bc22",
   "metadata": {},
   "outputs": [
    {
     "name": "stdout",
     "output_type": "stream",
     "text": [
      "1\n",
      "4\n",
      "7\n"
     ]
    }
   ],
   "source": [
    "abc = [[1,2,3],[4,5,6],[7,8,9]]\n",
    "for row in abc:\n",
    "    print(row[0])"
   ]
  },
  {
   "cell_type": "code",
   "execution_count": 13,
   "id": "1aabdaa4",
   "metadata": {},
   "outputs": [
    {
     "name": "stdout",
     "output_type": "stream",
     "text": [
      "['역사탐험대', '파이썬', '학습법', '영단어', '여행에세이', '삼국지']\n",
      "[21351, 24718, 21985, 18986, 16563, 16916]\n"
     ]
    }
   ],
   "source": [
    "#실습1번-1\n",
    "import random\n",
    "book_name = ['역사탐험대','파이썬','학습법','영단어','여행에세이','삼국지']\n",
    "book_price = []\n",
    "\n",
    "for b in book_name:\n",
    "    book_price.append(random.randint(15000,25000))\n",
    "\n",
    "print(book_name)\n",
    "print(book_price)"
   ]
  },
  {
   "cell_type": "code",
   "execution_count": 18,
   "id": "9272fc9c",
   "metadata": {},
   "outputs": [
    {
     "name": "stdout",
     "output_type": "stream",
     "text": [
      "['역사탐험대', '파이썬', '학습법', '영단어', '여행에세이', '삼국지']\n",
      "[24747, 15056, 17397, 18793, 15913, 17505]\n",
      "가장 비싼 가격의 도서 제목 >> 역사탐험대\n"
     ]
    }
   ],
   "source": [
    "#실습1번-2\n",
    "import random\n",
    "book_name = ['역사탐험대','파이썬','학습법','영단어','여행에세이','삼국지']\n",
    "book_price = []\n",
    "\n",
    "for b in book_name:\n",
    "    book_price.append(random.randint(15000,25000))\n",
    "    \n",
    "print(book_name)\n",
    "print(book_price)\n",
    "\n",
    "print('가장 비싼 가격의 도서 제목 >>', book_name[book_price.index(max(book_price))])"
   ]
  },
  {
   "cell_type": "code",
   "execution_count": 20,
   "id": "e505eb19",
   "metadata": {},
   "outputs": [
    {
     "name": "stdout",
     "output_type": "stream",
     "text": [
      "<< 순위 - 이름 >>\n",
      "1 - 라이언\n",
      "2 - 니니즈\n",
      "3 - 어피치\n",
      "4 - 프로도\n",
      "5 - 네오\n"
     ]
    }
   ],
   "source": [
    "#실습2번-1\n",
    "ranking = [[1, '라이언', 956412, 564553],\n",
    "           [2, '니니즈', 861832, 927175],\n",
    "           [3, '어피치', 796354, 593175],\n",
    "           [4, '프로도', 534840, 864326],\n",
    "           [5, '네오', 387896, 648367]]\n",
    "print('<< 순위 - 이름 >>')\n",
    "for r in ranking:\n",
    "    print(r[0],'-',r[1])"
   ]
  },
  {
   "cell_type": "code",
   "execution_count": 22,
   "id": "f8a322bc",
   "metadata": {},
   "outputs": [
    {
     "name": "stdout",
     "output_type": "stream",
     "text": [
      "<< 50만표 넘은 사람 >>\n",
      "라이언 - 956412\n",
      "니니즈 - 861832\n",
      "어피치 - 796354\n",
      "프로도 - 534840\n"
     ]
    }
   ],
   "source": [
    "#실습2번-2\n",
    "ranking = [[1, '라이언', 956412, 564553],\n",
    "           [2, '니니즈', 861832, 927175],\n",
    "           [3, '어피치', 796354, 593175],\n",
    "           [4, '프로도', 534840, 864326],\n",
    "           [5, '네오', 387896, 648367]]\n",
    "print('<< 50만표 넘은 사람 >>')\n",
    "for r in ranking:\n",
    "    if r[2] > 500000:\n",
    "        print(r[1], '-', r[2])"
   ]
  },
  {
   "cell_type": "code",
   "execution_count": 23,
   "id": "cd49e1a2",
   "metadata": {},
   "outputs": [
    {
     "name": "stdout",
     "output_type": "stream",
     "text": [
      "<< 득표수가 떨어진 사람 >>\n",
      "니니즈 - 65343 표 떨어짐\n",
      "프로도 - 329486 표 떨어짐\n",
      "네오 - 260471 표 떨어짐\n"
     ]
    }
   ],
   "source": [
    "#실습2번-3\n",
    "ranking = [[1, '라이언', 956412, 564553],\n",
    "           [2, '니니즈', 861832, 927175],\n",
    "           [3, '어피치', 796354, 593175],\n",
    "           [4, '프로도', 534840, 864326],\n",
    "           [5, '네오', 387896, 648367]]\n",
    "print('<< 득표수가 떨어진 사람 >>')\n",
    "for r in ranking:\n",
    "    if r[2] < r[3]:\n",
    "        print(r[1], '-', r[3]-r[2],'표 떨어짐')"
   ]
  },
  {
   "cell_type": "code",
   "execution_count": 24,
   "id": "a6fc0f04",
   "metadata": {},
   "outputs": [
    {
     "name": "stdout",
     "output_type": "stream",
     "text": [
      "<< 80만표 넘은 사람 >>\n",
      "라이언\n",
      "니니즈\n",
      "프로도\n"
     ]
    }
   ],
   "source": [
    "#실습2번-4\n",
    "ranking = [[1, '라이언', 956412, 564553],\n",
    "           [2, '니니즈', 861832, 927175],\n",
    "           [3, '어피치', 796354, 593175],\n",
    "           [4, '프로도', 534840, 864326],\n",
    "           [5, '네오', 387896, 648367]]\n",
    "print('<< 80만표 넘은 사람 >>')\n",
    "for r in ranking:\n",
    "    if r[2] > 800000 or r[3] > 800000:\n",
    "        print(r[1])"
   ]
  },
  {
   "cell_type": "code",
   "execution_count": null,
   "id": "d7c78d9a",
   "metadata": {},
   "outputs": [],
   "source": []
  }
 ],
 "metadata": {
  "kernelspec": {
   "display_name": "Python 3 (ipykernel)",
   "language": "python",
   "name": "python3"
  },
  "language_info": {
   "codemirror_mode": {
    "name": "ipython",
    "version": 3
   },
   "file_extension": ".py",
   "mimetype": "text/x-python",
   "name": "python",
   "nbconvert_exporter": "python",
   "pygments_lexer": "ipython3",
   "version": "3.9.7"
  }
 },
 "nbformat": 4,
 "nbformat_minor": 5
}
