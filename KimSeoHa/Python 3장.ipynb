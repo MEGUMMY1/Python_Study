{
 "cells": [
  {
   "cell_type": "code",
   "execution_count": 1,
   "id": "5ed233de",
   "metadata": {},
   "outputs": [
    {
     "name": "stdout",
     "output_type": "stream",
     "text": [
      "이름을 입력해주세요-> 서하\n",
      "서하님 환영합니다.\n"
     ]
    }
   ],
   "source": [
    "#2장 복습\n",
    "print(input(\"이름을 입력해주세요-> \")+\"님 환영합니다.\");"
   ]
  },
  {
   "cell_type": "code",
   "execution_count": 2,
   "id": "da7e0463",
   "metadata": {},
   "outputs": [
    {
     "name": "stdout",
     "output_type": "stream",
     "text": [
      "78.5\n"
     ]
    }
   ],
   "source": [
    "p=3.14\n",
    "r=5\n",
    "result=p*r**2 \n",
    "print(result)"
   ]
  },
  {
   "cell_type": "code",
   "execution_count": 5,
   "id": "b07b66f2",
   "metadata": {},
   "outputs": [
    {
     "name": "stdout",
     "output_type": "stream",
     "text": [
      "서하의 나이는 23살 입니다.\n"
     ]
    }
   ],
   "source": [
    "name='서하'\n",
    "age=23\n",
    "print(\"{}의 나이는 {}살 입니다.\".format(name,age)) #.format()->중괄호 부분에 변수에 저장된 값으로 변경되어서 출력"
   ]
  },
  {
   "cell_type": "code",
   "execution_count": 6,
   "id": "a63ebf86",
   "metadata": {},
   "outputs": [
    {
     "name": "stdout",
     "output_type": "stream",
     "text": [
      "이름 : 고라니\n",
      "나이 : 4\n",
      "특징 : 애교가 많은 편\n",
      "고라니(4) 애교가 많은 편\n",
      "애교가 많은 편인 고라니\n"
     ]
    }
   ],
   "source": [
    "#1.자기소개 프로그램 \n",
    "name=input('이름 : ')\n",
    "age=input('나이 : ')\n",
    "feature=input('특징 : ')\n",
    "print(name+'('+age+')',feature)\n",
    "print(feature+'인',name)"
   ]
  },
  {
   "cell_type": "code",
   "execution_count": 7,
   "id": "94100eb3",
   "metadata": {},
   "outputs": [
    {
     "name": "stdout",
     "output_type": "stream",
     "text": [
      "2017 년 - 175.5 cm\n",
      "2018 년 - 185.5 cm\n",
      "2019 년 - 195.5 cm\n",
      "2020 년 - 205.5 cm\n"
     ]
    }
   ],
   "source": [
    "#2.농구선수 키\n",
    "year=2017\n",
    "height=175.5\n",
    "print(year,'년','-',height,'cm')\n",
    "year+=1\n",
    "height+=10\n",
    "print(year,'년','-',height,'cm')\n",
    "year+=1\n",
    "height+=10\n",
    "print(year,'년','-',height,'cm')\n",
    "year+=1\n",
    "height+=10\n",
    "print(year,'년','-',height,'cm')"
   ]
  },
  {
   "cell_type": "code",
   "execution_count": 2,
   "id": "9933dc05",
   "metadata": {},
   "outputs": [
    {
     "name": "stdout",
     "output_type": "stream",
     "text": [
      "<class 'int'>\n"
     ]
    }
   ],
   "source": [
    "#데이터 타입 알려주기->type()\n",
    "year=20\n",
    "print(type(year))"
   ]
  },
  {
   "cell_type": "code",
   "execution_count": 3,
   "id": "2ccd87f8",
   "metadata": {},
   "outputs": [
    {
     "name": "stdout",
     "output_type": "stream",
     "text": [
      "과자를 몇 개 구매하겠습니까? 3\n",
      "라면을 몇 개 구매하겠습니까? 5\n",
      "햄을 몇 개 구매하겠습니까? 2\n",
      "총 금액: 12400\n"
     ]
    }
   ],
   "source": [
    "#1.총금액\n",
    "s_cnt=int(input('과자를 몇 개 구매하겠습니까? '))\n",
    "r_cnt=int(input('라면을 몇 개 구매하겠습니까? '))\n",
    "h_cnt=int(input('햄을 몇 개 구매하겠습니까? '))\n",
    "\n",
    "price=1200*s_cnt+800*r_cnt+2400*h_cnt\n",
    "print('총 금액:',price)"
   ]
  },
  {
   "cell_type": "code",
   "execution_count": 4,
   "id": "cb69cdad",
   "metadata": {},
   "outputs": [
    {
     "name": "stdout",
     "output_type": "stream",
     "text": [
      "과자를 몇 개 구매하겠습니까? 3\n",
      "라면을 몇 개 구매하겠습니까? 5\n",
      "햄을 몇 개 구매하겠습니까? 2\n",
      "총 금액: 12400 , 할인 전 금액:  9300.0\n"
     ]
    }
   ],
   "source": [
    "#2.1번 할인 전과 후\n",
    "s_cnt=int(input('과자를 몇 개 구매하겠습니까? '))\n",
    "r_cnt=int(input('라면을 몇 개 구매하겠습니까? '))\n",
    "h_cnt=int(input('햄을 몇 개 구매하겠습니까? '))\n",
    "\n",
    "price=1200*s_cnt+800*r_cnt+2400*h_cnt\n",
    "print('총 금액:',price,', 할인 전 금액: ',price*0.75)"
   ]
  },
  {
   "cell_type": "code",
   "execution_count": 6,
   "id": "92bfdc2f",
   "metadata": {},
   "outputs": [
    {
     "name": "stdout",
     "output_type": "stream",
     "text": [
      "숫자 1 입력: 12\n",
      "숫자 2 입력: 4\n",
      "두 수를 더한 값:  16\n",
      "두 수를 뺀 값:  8\n",
      "두 수를 곱한 값:  48\n",
      "두 수를 나눈 값:  3.0\n"
     ]
    }
   ],
   "source": [
    "#3.사칙연산 프로그램\n",
    "num1=int(input('숫자 1 입력: '))\n",
    "num2=int(input('숫자 2 입력: '))\n",
    "print('두 수를 더한 값: ',num1+num2)\n",
    "print('두 수를 뺀 값: ',num1-num2)\n",
    "print('두 수를 곱한 값: ',num1*num2)\n",
    "print('두 수를 나눈 값: ',num1/num2)"
   ]
  },
  {
   "cell_type": "code",
   "execution_count": 7,
   "id": "b0afa227",
   "metadata": {},
   "outputs": [
    {
     "name": "stdout",
     "output_type": "stream",
     "text": [
      "당신은 누구입니까? 전설\n",
      "나는 전설이다\n"
     ]
    }
   ],
   "source": [
    "#1\n",
    "a=input('당신은 누구입니까? ')\n",
    "print('나는 '+a+'이다')"
   ]
  },
  {
   "cell_type": "code",
   "execution_count": 8,
   "id": "60d3b6de",
   "metadata": {},
   "outputs": [
    {
     "name": "stdout",
     "output_type": "stream",
     "text": [
      "아이디 입력: yoori\n",
      "이름 입력: 유리\n",
      "유리 님! 회원가입을 환영합니다.\n",
      "yoori 님에게 지금 즉시 사용 가능한 쿠폰 5개 발급!\n",
      "yoori 님에게만 적립금 2000 추가 지급!\n"
     ]
    }
   ],
   "source": [
    "#2\n",
    "id=input('아이디 입력: ')\n",
    "name=input('이름 입력: ')\n",
    "print(name+' 님! 회원가입을 환영합니다.')\n",
    "print(id,'님에게 지금 즉시 사용 가능한 쿠폰 5개 발급!')\n",
    "print(id,'님에게만 적립금 2000 추가 지급!')"
   ]
  },
  {
   "cell_type": "code",
   "execution_count": 11,
   "id": "75cfbab5",
   "metadata": {},
   "outputs": [
    {
     "name": "stdout",
     "output_type": "stream",
     "text": [
      "국어 점수는? 80\n",
      "수학 점수는? 60\n",
      "영어 점수는? 93\n",
      "최종 점수는 54.59 입니다!\n"
     ]
    }
   ],
   "source": [
    "#4\n",
    "kor=int(input('국어 점수는? '))\n",
    "math=int(input('수학 점수는? '))\n",
    "eng=int(input('영어 점수는? '))\n",
    "\n",
    "result=kor*0.16+math*0.34+eng*0.23\n",
    "print('최종 점수는',float(result),'입니다!')"
   ]
  },
  {
   "cell_type": "code",
   "execution_count": null,
   "id": "94953970",
   "metadata": {},
   "outputs": [],
   "source": []
  }
 ],
 "metadata": {
  "kernelspec": {
   "display_name": "Python 3 (ipykernel)",
   "language": "python",
   "name": "python3"
  },
  "language_info": {
   "codemirror_mode": {
    "name": "ipython",
    "version": 3
   },
   "file_extension": ".py",
   "mimetype": "text/x-python",
   "name": "python",
   "nbconvert_exporter": "python",
   "pygments_lexer": "ipython3",
   "version": "3.9.12"
  }
 },
 "nbformat": 4,
 "nbformat_minor": 5
}
